{
 "cells": [
  {
   "cell_type": "code",
   "execution_count": 1,
   "metadata": {
    "scrolled": true
   },
   "outputs": [
    {
     "name": "stdout",
     "output_type": "stream",
     "text": [
      "Requirement already satisfied: selenium in /home/anthony/anaconda3/lib/python3.7/site-packages (3.141.0)\r\n",
      "Requirement already satisfied: urllib3 in /home/anthony/anaconda3/lib/python3.7/site-packages (from selenium) (1.24.2)\r\n"
     ]
    }
   ],
   "source": [
    "!pip install selenium"
   ]
  },
  {
   "cell_type": "markdown",
   "metadata": {},
   "source": [
    "## 1 . Recuperar los textos seleccionados de la pagina\n",
    "\n",
    "Seleccionamos la primera novela de la trilogia de los juegos del hambre para la tarea, lo cual podemos obtener de la pagina [novelstoday](https://novelstoday.com/the-hunger-games.html). Recuperamos el texto de los capitulos mediante selenium y BeautifulSoup."
   ]
  },
  {
   "cell_type": "code",
   "execution_count": 2,
   "metadata": {},
   "outputs": [
    {
     "name": "stderr",
     "output_type": "stream",
     "text": [
      "/home/anthony/anaconda3/lib/python3.7/site-packages/ipykernel_launcher.py:8: DeprecationWarning: use options instead of chrome_options\n",
      "  \n"
     ]
    }
   ],
   "source": [
    "# Abrir driver\n",
    "from selenium import webdriver\n",
    "options = webdriver.ChromeOptions()\n",
    "options.add_argument('--incognito')\n",
    "## cambiar el path del driver\n",
    "path_driver = '/home/anthony/Documentos/Diplomado/NLP for sentimal analysis/chromedriver_linux64/chromedriver'\n",
    "driver = webdriver.Chrome(path_driver,\n",
    "                          chrome_options = options)"
   ]
  },
  {
   "cell_type": "code",
   "execution_count": 3,
   "metadata": {},
   "outputs": [],
   "source": [
    "## Iniciamos la pagina en el primer capitulo\n",
    "page_url = 'https://novelstoday.com/the-hunger-games/chapter-one.html'\n",
    "import time\n",
    "driver.get(page_url)\n",
    "time.sleep(5)"
   ]
  },
  {
   "cell_type": "code",
   "execution_count": 4,
   "metadata": {},
   "outputs": [
    {
     "name": "stdout",
     "output_type": "stream",
     "text": [
      "Total de capitulos: 27\n"
     ]
    }
   ],
   "source": [
    "## Obtener texto de los capitulos \n",
    "from bs4 import BeautifulSoup\n",
    "\n",
    "chapters_text = []\n",
    "## Recorrer capitulos y extraer el texto\n",
    "while(True):\n",
    "    ## html de la pagina\n",
    "    page_source = driver.page_source\n",
    "    soup = BeautifulSoup(page_source, 'html.parser')\n",
    "    # extramos el texto\n",
    "    chapter_text = soup.find('div', class_='chapterContent ls-15').text\n",
    "    chapters_text.append(chapter_text)\n",
    "    ## obtenemos el grupo de botones de paginacion\n",
    "    control_group = driver.find_element_by_class_name('control-group')\n",
    "    # obtenemos el boton de siguiente capitulo\n",
    "    next_chapter = control_group.find_elements_by_tag_name('a')[2]\n",
    "    # pasamos al siguiente capitulo si no esta desabilitado\n",
    "    if 'disable' in next_chapter.get_attribute('class'):\n",
    "        break\n",
    "    else:\n",
    "        next_chapter.click()\n",
    "        time.sleep(3)\n",
    "        \n",
    "print(f\"Total de capitulos: {len(chapters_text)}\")"
   ]
  },
  {
   "cell_type": "markdown",
   "metadata": {},
   "source": [
    "### Guardamos los datos"
   ]
  },
  {
   "cell_type": "code",
   "execution_count": 5,
   "metadata": {},
   "outputs": [],
   "source": [
    "import pandas as pd\n",
    "data = [{ 'num_chapter': index + 1 ,'content': chapter } for index ,chapter in enumerate(chapters_text)]\n",
    "df_data = pd.DataFrame(data)\n",
    "df_data.to_csv('hunger_games_chapters.csv',index= False)"
   ]
  },
  {
   "cell_type": "code",
   "execution_count": 6,
   "metadata": {},
   "outputs": [
    {
     "data": {
      "text/html": [
       "<div>\n",
       "<style scoped>\n",
       "    .dataframe tbody tr th:only-of-type {\n",
       "        vertical-align: middle;\n",
       "    }\n",
       "\n",
       "    .dataframe tbody tr th {\n",
       "        vertical-align: top;\n",
       "    }\n",
       "\n",
       "    .dataframe thead th {\n",
       "        text-align: right;\n",
       "    }\n",
       "</style>\n",
       "<table border=\"1\" class=\"dataframe\">\n",
       "  <thead>\n",
       "    <tr style=\"text-align: right;\">\n",
       "      <th></th>\n",
       "      <th>content</th>\n",
       "      <th>num_chapter</th>\n",
       "    </tr>\n",
       "  </thead>\n",
       "  <tbody>\n",
       "    <tr>\n",
       "      <th>0</th>\n",
       "      <td>\\nPART I \"THE TRIBUTES\" 1. When I wake up, the...</td>\n",
       "      <td>1</td>\n",
       "    </tr>\n",
       "    <tr>\n",
       "      <th>1</th>\n",
       "      <td>2 One time, when I was in a blind in a tree, ...</td>\n",
       "      <td>2</td>\n",
       "    </tr>\n",
       "    <tr>\n",
       "      <th>2</th>\n",
       "      <td>\\n3 The moment the anthem ends, we are taken i...</td>\n",
       "      <td>3</td>\n",
       "    </tr>\n",
       "    <tr>\n",
       "      <th>3</th>\n",
       "      <td>\\n4 For a few moments, Peeta and I take in the...</td>\n",
       "      <td>4</td>\n",
       "    </tr>\n",
       "    <tr>\n",
       "      <th>4</th>\n",
       "      <td>\\n5 R-i-i-i-p! I grit my teeth as Venia, a wom...</td>\n",
       "      <td>5</td>\n",
       "    </tr>\n",
       "  </tbody>\n",
       "</table>\n",
       "</div>"
      ],
      "text/plain": [
       "                                             content  num_chapter\n",
       "0  \\nPART I \"THE TRIBUTES\" 1. When I wake up, the...            1\n",
       "1   2 One time, when I was in a blind in a tree, ...            2\n",
       "2  \\n3 The moment the anthem ends, we are taken i...            3\n",
       "3  \\n4 For a few moments, Peeta and I take in the...            4\n",
       "4  \\n5 R-i-i-i-p! I grit my teeth as Venia, a wom...            5"
      ]
     },
     "execution_count": 6,
     "metadata": {},
     "output_type": "execute_result"
    }
   ],
   "source": [
    "## Load data\n",
    "df_data = pd.read_csv('hunger_games_chapters.csv')\n",
    "df_data.head()"
   ]
  },
  {
   "cell_type": "markdown",
   "metadata": {},
   "source": [
    "## 2. Limpieza de datos"
   ]
  },
  {
   "cell_type": "markdown",
   "metadata": {},
   "source": [
    "Con el objetivo de identificar el tamaño del vocabulario y los términos relevantes con más frecuentes en la lista de Tokens. Se tomo los siguientes puntos para la limpieza de datos del texto extraido en ideoma ingles:\n",
    "\n",
    "*   Normalizar a minusculas el texto para evitar la duplicacion de tokens en el vocabulario.\n",
    "*   Expandir las contraciones en el texto para evitar generar palabras extrañas o cambiar el significado al remover la comilla simple por ejemplo : don't -> dont o we're -> were\n",
    "*   Remover los signos de puntuacion, ya que no aportan al vocabulario y podria generar tokens extraños.\n",
    "*   Remover las palabras vacias (stopwords), ya que son muy frecuentes y carecen de un significado relevante.\n",
    "*   Remover las palabras con longitud menor a 3, ya que en el ideoma ingles posiblemente son palabras que no enriquecen el vocabulario.\n",
    "* Se considera que no es necesario eliminar los caractares no alfanumericos ya que al ser un texto literario ya debe haber pasado por revisiones y no deberia contener caracteres extraños."
   ]
  },
  {
   "cell_type": "code",
   "execution_count": 7,
   "metadata": {},
   "outputs": [],
   "source": [
    "## funcion para remover signos de puntuacion\n",
    "import string\n",
    "def remove_punctuation(sentence):\n",
    "    return sentence.translate(str.maketrans(\"\",\"\",string.punctuation))"
   ]
  },
  {
   "cell_type": "code",
   "execution_count": 8,
   "metadata": {},
   "outputs": [
    {
     "name": "stderr",
     "output_type": "stream",
     "text": [
      "[nltk_data] Downloading package stopwords to\n",
      "[nltk_data]     /home/anthony/nltk_data...\n",
      "[nltk_data]   Package stopwords is already up-to-date!\n"
     ]
    }
   ],
   "source": [
    "## cargar stopwords en ingles\n",
    "import nltk\n",
    "from nltk.corpus import stopwords\n",
    "nltk.download('stopwords')\n",
    "stop_words = stopwords.words('english')\n",
    "stop_words.extend(['must','could','would'])"
   ]
  },
  {
   "cell_type": "code",
   "execution_count": 9,
   "metadata": {},
   "outputs": [
    {
     "name": "stdout",
     "output_type": "stream",
     "text": [
      "Requirement already satisfied: contractions in /home/anthony/anaconda3/lib/python3.7/site-packages (0.0.49)\r\n",
      "Requirement already satisfied: textsearch>=0.0.21 in /home/anthony/anaconda3/lib/python3.7/site-packages (from contractions) (0.0.21)\r\n",
      "Requirement already satisfied: pyahocorasick in /home/anthony/anaconda3/lib/python3.7/site-packages (from textsearch>=0.0.21->contractions) (1.4.2)\r\n",
      "Requirement already satisfied: anyascii in /home/anthony/anaconda3/lib/python3.7/site-packages (from textsearch>=0.0.21->contractions) (0.2.0)\r\n"
     ]
    }
   ],
   "source": [
    "## Libreria para expandir las contracciones\n",
    "!pip install contractions"
   ]
  },
  {
   "cell_type": "markdown",
   "metadata": {},
   "source": [
    "### Limpiar el texto"
   ]
  },
  {
   "cell_type": "code",
   "execution_count": 10,
   "metadata": {},
   "outputs": [],
   "source": [
    "from nltk import word_tokenize\n",
    "import contractions\n",
    "\n",
    "chapters_text = df_data['content']\n",
    "chapters_clean = []\n",
    "for chapter in chapters_text:\n",
    "    # normalizar a minusculas\n",
    "    chapter_clean = chapter.lower()\n",
    "    # expandimos la contracciones\n",
    "    chapter_clean = contractions.fix(chapter_clean)\n",
    "    # remover punctuacion\n",
    "    chapter_clean = remove_punctuation(chapter_clean)\n",
    "    # tokenizar\n",
    "    tokens_chapter = word_tokenize(chapter_clean)\n",
    "    # remover stopwords\n",
    "    tokens_chapter = [word for word in tokens_chapter if word not in stop_words]\n",
    "    # remover plabras menores a 3 caracteres\n",
    "    tokens_chapter = [word for word in tokens_chapter if len(word) > 2]\n",
    "    chapters_clean.append(' '.join(tokens_chapter))"
   ]
  },
  {
   "cell_type": "code",
   "execution_count": 11,
   "metadata": {},
   "outputs": [
    {
     "data": {
      "text/html": [
       "<div>\n",
       "<style scoped>\n",
       "    .dataframe tbody tr th:only-of-type {\n",
       "        vertical-align: middle;\n",
       "    }\n",
       "\n",
       "    .dataframe tbody tr th {\n",
       "        vertical-align: top;\n",
       "    }\n",
       "\n",
       "    .dataframe thead th {\n",
       "        text-align: right;\n",
       "    }\n",
       "</style>\n",
       "<table border=\"1\" class=\"dataframe\">\n",
       "  <thead>\n",
       "    <tr style=\"text-align: right;\">\n",
       "      <th></th>\n",
       "      <th>content</th>\n",
       "      <th>num_chapter</th>\n",
       "      <th>clean_chapter</th>\n",
       "    </tr>\n",
       "  </thead>\n",
       "  <tbody>\n",
       "    <tr>\n",
       "      <th>0</th>\n",
       "      <td>\\nPART I \"THE TRIBUTES\" 1. When I wake up, the...</td>\n",
       "      <td>1</td>\n",
       "      <td>part tributes wake side bed cold fingers stret...</td>\n",
       "    </tr>\n",
       "    <tr>\n",
       "      <th>1</th>\n",
       "      <td>2 One time, when I was in a blind in a tree, ...</td>\n",
       "      <td>2</td>\n",
       "      <td>one time blind tree waiting motionless game wa...</td>\n",
       "    </tr>\n",
       "    <tr>\n",
       "      <th>2</th>\n",
       "      <td>\\n3 The moment the anthem ends, we are taken i...</td>\n",
       "      <td>3</td>\n",
       "      <td>moment anthem ends taken custody mean handcuff...</td>\n",
       "    </tr>\n",
       "    <tr>\n",
       "      <th>3</th>\n",
       "      <td>\\n4 For a few moments, Peeta and I take in the...</td>\n",
       "      <td>4</td>\n",
       "      <td>moments peeta take scene mentor trying rise sl...</td>\n",
       "    </tr>\n",
       "    <tr>\n",
       "      <th>4</th>\n",
       "      <td>\\n5 R-i-i-i-p! I grit my teeth as Venia, a wom...</td>\n",
       "      <td>5</td>\n",
       "      <td>riiip grit teeth venia woman aqua hair gold ta...</td>\n",
       "    </tr>\n",
       "  </tbody>\n",
       "</table>\n",
       "</div>"
      ],
      "text/plain": [
       "                                             content  num_chapter  \\\n",
       "0  \\nPART I \"THE TRIBUTES\" 1. When I wake up, the...            1   \n",
       "1   2 One time, when I was in a blind in a tree, ...            2   \n",
       "2  \\n3 The moment the anthem ends, we are taken i...            3   \n",
       "3  \\n4 For a few moments, Peeta and I take in the...            4   \n",
       "4  \\n5 R-i-i-i-p! I grit my teeth as Venia, a wom...            5   \n",
       "\n",
       "                                       clean_chapter  \n",
       "0  part tributes wake side bed cold fingers stret...  \n",
       "1  one time blind tree waiting motionless game wa...  \n",
       "2  moment anthem ends taken custody mean handcuff...  \n",
       "3  moments peeta take scene mentor trying rise sl...  \n",
       "4  riiip grit teeth venia woman aqua hair gold ta...  "
      ]
     },
     "execution_count": 11,
     "metadata": {},
     "output_type": "execute_result"
    }
   ],
   "source": [
    "df_data['clean_chapter'] = chapters_clean\n",
    "df_data.head()"
   ]
  },
  {
   "cell_type": "markdown",
   "metadata": {},
   "source": [
    "## Identificar tamaño de vocabulario y tokens"
   ]
  },
  {
   "cell_type": "code",
   "execution_count": 12,
   "metadata": {},
   "outputs": [],
   "source": [
    "all_chapters = ' '.join(chapters_clean)"
   ]
  },
  {
   "cell_type": "code",
   "execution_count": 13,
   "metadata": {},
   "outputs": [
    {
     "name": "stdout",
     "output_type": "stream",
     "text": [
      "Numero de tokens: 45761\n",
      "tamaño de vocabulario: 7457\n"
     ]
    }
   ],
   "source": [
    "tokens = word_tokenize(all_chapters)\n",
    "num_tokens = len(tokens)\n",
    "vocabulary_size = len(set(tokens))\n",
    "print(f'Numero de tokens: {num_tokens}')\n",
    "print(f'tamaño de vocabulario: {vocabulary_size}')"
   ]
  },
  {
   "cell_type": "code",
   "execution_count": 14,
   "metadata": {},
   "outputs": [
    {
     "name": "stdout",
     "output_type": "stream",
     "text": [
      "Numero de tokens: 45761\n",
      "tamaño de vocabulario: 7457\n"
     ]
    }
   ],
   "source": [
    "tokens = word_tokenize(all_chapters)\n",
    "num_tokens = len(tokens)\n",
    "vocabulary_size = len(set(tokens))\n",
    "print(f'Numero de tokens: {num_tokens}')\n",
    "print(f'tamaño de vocabulario: {vocabulary_size}')"
   ]
  },
  {
   "cell_type": "code",
   "execution_count": 15,
   "metadata": {},
   "outputs": [
    {
     "data": {
      "image/png": "[encoded data removed]",
      "text/plain": [
       "<Figure size 1080x720 with 1 Axes>"
      ]
     },
     "metadata": {
      "needs_background": "light"
     },
     "output_type": "display_data"
    }
   ],
   "source": [
    "from nltk import FreqDist\n",
    "import matplotlib.pyplot as plt\n",
    "%matplotlib inline\n",
    "\n",
    "## palabras(tokens) mas frecuentes\n",
    "freq = FreqDist(tokens)\n",
    "words_frequency = freq.most_common(25)\n",
    "\n",
    "pd.DataFrame(words_frequency,columns=['word','freq']).set_index('word').plot.bar(figsize = (15,10))\n",
    "plt.xticks(rotation=50)\n",
    "plt.xlabel(\"Palabras\")\n",
    "plt.ylabel(\"Frecuencia\")\n",
    "plt.show()"
   ]
  },
  {
   "cell_type": "markdown",
   "metadata": {},
   "source": [
    "## 3. Aplicar Stemming\n",
    "Aplicamos el stemming al prepocesamiento del texto"
   ]
  },
  {
   "cell_type": "code",
   "execution_count": 16,
   "metadata": {},
   "outputs": [],
   "source": [
    "from nltk import word_tokenize\n",
    "from nltk.stem import PorterStemmer\n",
    "\n",
    "ps = PorterStemmer()\n",
    "chapters_clean = []\n",
    "for chapter in chapters_text:\n",
    "    # normalizar a minusculas\n",
    "    chapter_clean = chapter.lower()\n",
    "    # expandimos la contracciones\n",
    "    chapter_clean = contractions.fix(chapter_clean)\n",
    "    # remover punctuacion\n",
    "    chapter_clean = remove_punctuation(chapter_clean)\n",
    "    # tokenizar\n",
    "    tokens_chapter = word_tokenize(chapter_clean)\n",
    "    # remover stopwords\n",
    "    tokens_chapter = [word for word in tokens_chapter if word not in stop_words]\n",
    "    # remover plabras menor a 3\n",
    "    tokens_chapter = [word for word in tokens_chapter if len(word) > 2]\n",
    "    ## aplicar stemming\n",
    "    tokens_chapter = [ps.stem(word) for word in tokens_chapter ]\n",
    "    chapters_clean.append(' '.join(tokens_chapter))"
   ]
  },
  {
   "cell_type": "code",
   "execution_count": 17,
   "metadata": {},
   "outputs": [
    {
     "data": {
      "text/html": [
       "<div>\n",
       "<style scoped>\n",
       "    .dataframe tbody tr th:only-of-type {\n",
       "        vertical-align: middle;\n",
       "    }\n",
       "\n",
       "    .dataframe tbody tr th {\n",
       "        vertical-align: top;\n",
       "    }\n",
       "\n",
       "    .dataframe thead th {\n",
       "        text-align: right;\n",
       "    }\n",
       "</style>\n",
       "<table border=\"1\" class=\"dataframe\">\n",
       "  <thead>\n",
       "    <tr style=\"text-align: right;\">\n",
       "      <th></th>\n",
       "      <th>content</th>\n",
       "      <th>num_chapter</th>\n",
       "      <th>clean_chapter</th>\n",
       "      <th>clean_chapter_stemming</th>\n",
       "    </tr>\n",
       "  </thead>\n",
       "  <tbody>\n",
       "    <tr>\n",
       "      <th>0</th>\n",
       "      <td>\\nPART I \"THE TRIBUTES\" 1. When I wake up, the...</td>\n",
       "      <td>1</td>\n",
       "      <td>part tributes wake side bed cold fingers stret...</td>\n",
       "      <td>part tribut wake side bed cold finger stretch ...</td>\n",
       "    </tr>\n",
       "    <tr>\n",
       "      <th>1</th>\n",
       "      <td>2 One time, when I was in a blind in a tree, ...</td>\n",
       "      <td>2</td>\n",
       "      <td>one time blind tree waiting motionless game wa...</td>\n",
       "      <td>one time blind tree wait motionless game wande...</td>\n",
       "    </tr>\n",
       "    <tr>\n",
       "      <th>2</th>\n",
       "      <td>\\n3 The moment the anthem ends, we are taken i...</td>\n",
       "      <td>3</td>\n",
       "      <td>moment anthem ends taken custody mean handcuff...</td>\n",
       "      <td>moment anthem end taken custodi mean handcuf a...</td>\n",
       "    </tr>\n",
       "    <tr>\n",
       "      <th>3</th>\n",
       "      <td>\\n4 For a few moments, Peeta and I take in the...</td>\n",
       "      <td>4</td>\n",
       "      <td>moments peeta take scene mentor trying rise sl...</td>\n",
       "      <td>moment peeta take scene mentor tri rise slippe...</td>\n",
       "    </tr>\n",
       "    <tr>\n",
       "      <th>4</th>\n",
       "      <td>\\n5 R-i-i-i-p! I grit my teeth as Venia, a wom...</td>\n",
       "      <td>5</td>\n",
       "      <td>riiip grit teeth venia woman aqua hair gold ta...</td>\n",
       "      <td>riiip grit teeth venia woman aqua hair gold ta...</td>\n",
       "    </tr>\n",
       "  </tbody>\n",
       "</table>\n",
       "</div>"
      ],
      "text/plain": [
       "                                             content  num_chapter  \\\n",
       "0  \\nPART I \"THE TRIBUTES\" 1. When I wake up, the...            1   \n",
       "1   2 One time, when I was in a blind in a tree, ...            2   \n",
       "2  \\n3 The moment the anthem ends, we are taken i...            3   \n",
       "3  \\n4 For a few moments, Peeta and I take in the...            4   \n",
       "4  \\n5 R-i-i-i-p! I grit my teeth as Venia, a wom...            5   \n",
       "\n",
       "                                       clean_chapter  \\\n",
       "0  part tributes wake side bed cold fingers stret...   \n",
       "1  one time blind tree waiting motionless game wa...   \n",
       "2  moment anthem ends taken custody mean handcuff...   \n",
       "3  moments peeta take scene mentor trying rise sl...   \n",
       "4  riiip grit teeth venia woman aqua hair gold ta...   \n",
       "\n",
       "                              clean_chapter_stemming  \n",
       "0  part tribut wake side bed cold finger stretch ...  \n",
       "1  one time blind tree wait motionless game wande...  \n",
       "2  moment anthem end taken custodi mean handcuf a...  \n",
       "3  moment peeta take scene mentor tri rise slippe...  \n",
       "4  riiip grit teeth venia woman aqua hair gold ta...  "
      ]
     },
     "execution_count": 17,
     "metadata": {},
     "output_type": "execute_result"
    }
   ],
   "source": [
    "df_data['clean_chapter_stemming'] = chapters_clean\n",
    "df_data.head()"
   ]
  },
  {
   "cell_type": "code",
   "execution_count": 18,
   "metadata": {},
   "outputs": [
    {
     "name": "stdout",
     "output_type": "stream",
     "text": [
      "Numero de tokens: 45761\n",
      "tamaño de vocabulario: 4811\n"
     ]
    }
   ],
   "source": [
    "## Identificamos el vocabulario y tokens\n",
    "all_chapters = ' '.join(chapters_clean)\n",
    "tokens = word_tokenize(all_chapters)\n",
    "num_tokens_with_stemming = len(tokens)\n",
    "vocabulary_size_with_stemming = len(set(tokens))\n",
    "print(f'Numero de tokens: {num_tokens_with_stemming}')\n",
    "print(f'tamaño de vocabulario: {vocabulary_size_with_stemming}')"
   ]
  },
  {
   "cell_type": "code",
   "execution_count": 19,
   "metadata": {},
   "outputs": [
    {
     "data": {
      "image/png": "[encoded data removed]",
      "text/plain": [
       "<Figure size 1080x576 with 1 Axes>"
      ]
     },
     "metadata": {
      "needs_background": "light"
     },
     "output_type": "display_data"
    }
   ],
   "source": [
    "from nltk import FreqDist\n",
    "## palabras(tokens) mas frecuentes\n",
    "freq = FreqDist(tokens)\n",
    "words_frequency_stemming = freq.most_common(25)\n",
    "pd.DataFrame(words_frequency_stemming,columns=['word','freq']).set_index('word').plot.bar(figsize = (15,8))\n",
    "plt.xticks(rotation=50)\n",
    "plt.xlabel(\"Palabras\")\n",
    "plt.ylabel(\"Frecuencia\")\n",
    "plt.show()"
   ]
  },
  {
   "cell_type": "markdown",
   "metadata": {},
   "source": [
    "Al aplicar stemming (Porter) el tamaño del vocabulario se redujo considerablemete de $7457$ a $4811$ , ademas las frecuencia de los tokens cambio siendo por ejemplo ahora la palabra $say$ la mas frecuente ya que esta es la forma truncada que represente ahora a varias palabras que tiene esta raiz."
   ]
  }
 ],
 "metadata": {
  "kernelspec": {
   "display_name": "Python 3",
   "language": "python",
   "name": "python3"
  },
  "language_info": {
   "codemirror_mode": {
    "name": "ipython",
    "version": 3
   },
   "file_extension": ".py",
   "mimetype": "text/x-python",
   "name": "python",
   "nbconvert_exporter": "python",
   "pygments_lexer": "ipython3",
   "version": "3.7.3"
  }
 },
 "nbformat": 4,
 "nbformat_minor": 2
}
