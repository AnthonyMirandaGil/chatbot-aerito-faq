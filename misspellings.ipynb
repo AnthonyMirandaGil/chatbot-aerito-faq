{
 "cells": [
  {
   "cell_type": "code",
   "execution_count": null,
   "metadata": {},
   "outputs": [],
   "source": [
    "key_words = [\n",
    "    'modelo',\n",
    "    'solicitud',\n",
    "    'matrícula',\n",
    "    'formato',\n",
    "    'Cuando',\n",
    "    'procedimiento',\n",
    "    'tramite',\n",
    "    'cuales',\n",
    "    'fecha',\n",
    "    'Cuanto',\n",
    "    'cual',\n",
    "    'costo',\n",
    "    'gratis',\n",
    "    'pagar',\n",
    "    'pagarlo',\n",
    "    'regular',\n",
    "    'ingresante',\n",
    "    'carnet',\n",
    "    'horario',\n",
    "    'horarios',\n",
    "    'autoseguro',\n",
    "    'proceso',\n",
    "    'pago',\n",
    "    'pague',\n",
    "    'rezagado']\n",
    "\n",
    "misspellings = {}"
   ]
  }
 ],
 "metadata": {
  "kernelspec": {
   "display_name": "Python 3.7.13 ('rasa32')",
   "language": "python",
   "name": "python3"
  },
  "language_info": {
   "name": "python",
   "version": "3.7.13"
  },
  "orig_nbformat": 4,
  "vscode": {
   "interpreter": {
    "hash": "8dbeccc0e5ee78fe7a40e6ebf5950fc465cbaae5871fc8eec18e54afb302ad8e"
   }
  }
 },
 "nbformat": 4,
 "nbformat_minor": 2
}
