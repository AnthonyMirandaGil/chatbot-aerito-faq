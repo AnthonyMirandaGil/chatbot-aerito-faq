{
  "nbformat": 4,
  "nbformat_minor": 5,
  "metadata": {
    "kernelspec": {
      "display_name": "Python 3",
      "language": "python",
      "name": "python3"
    },
    "language_info": {
      "codemirror_mode": {
        "name": "ipython",
        "version": 3
      },
      "file_extension": ".py",
      "mimetype": "text/x-python",
      "name": "python",
      "nbconvert_exporter": "python",
      "pygments_lexer": "ipython3",
      "version": "3.6.13"
    },
    "colab": {
      "name": "02 Pre-procesamiento [Ejercicio Resuelto].ipynb",
      "provenance": [],
      "toc_visible": true
    }
  },
  "cells": [
    {
      "cell_type": "code",
      "metadata": {
        "id": "00fd8cca-c409-42c6-8430-321a3e79a924"
      },
      "source": [
        "import pandas as pd"
      ],
      "id": "00fd8cca-c409-42c6-8430-321a3e79a924",
      "execution_count": 1,
      "outputs": []
    },
    {
      "cell_type": "code",
      "metadata": {
        "id": "Dkivs_X56C3s",
        "colab": {
          "base_uri": "https://localhost:8080/"
        },
        "outputId": "c0ff05c9-7010-4b28-c018-1e5b26c58fd7"
      },
      "source": [
        "df = pd.read_csv('apple_products.csv')\n",
        "df.shape"
      ],
      "id": "Dkivs_X56C3s",
      "execution_count": 2,
      "outputs": [
        {
          "output_type": "execute_result",
          "data": {
            "text/plain": [
              "(250, 5)"
            ]
          },
          "metadata": {
            "tags": []
          },
          "execution_count": 2
        }
      ]
    },
    {
      "cell_type": "code",
      "metadata": {
        "id": "5F6XDRXh6C7P",
        "colab": {
          "base_uri": "https://localhost:8080/",
          "height": 204
        },
        "outputId": "2987abea-ea6b-417d-d86c-67eb9da2019c"
      },
      "source": [
        "df.sample(5)"
      ],
      "id": "5F6XDRXh6C7P",
      "execution_count": 3,
      "outputs": [
        {
          "output_type": "execute_result",
          "data": {
            "text/html": [
              "<div>\n",
              "<style scoped>\n",
              "    .dataframe tbody tr th:only-of-type {\n",
              "        vertical-align: middle;\n",
              "    }\n",
              "\n",
              "    .dataframe tbody tr th {\n",
              "        vertical-align: top;\n",
              "    }\n",
              "\n",
              "    .dataframe thead th {\n",
              "        text-align: right;\n",
              "    }\n",
              "</style>\n",
              "<table border=\"1\" class=\"dataframe\">\n",
              "  <thead>\n",
              "    <tr style=\"text-align: right;\">\n",
              "      <th></th>\n",
              "      <th>name</th>\n",
              "      <th>original_price</th>\n",
              "      <th>sale_price</th>\n",
              "      <th>discount</th>\n",
              "      <th>product_link</th>\n",
              "    </tr>\n",
              "  </thead>\n",
              "  <tbody>\n",
              "    <tr>\n",
              "      <th>87</th>\n",
              "      <td>Adaptador Apple Lightning a Jack para Audífono...</td>\n",
              "      <td>S/ 110 un</td>\n",
              "      <td>S/ 59.99 un</td>\n",
              "      <td>-45%</td>\n",
              "      <td>https://www.plazavea.com.pe//adaptador-apple-l...</td>\n",
              "    </tr>\n",
              "    <tr>\n",
              "      <th>156</th>\n",
              "      <td>Cable de Carga Apple USB-C a USB-C Blanco 2 Me...</td>\n",
              "      <td>S/ 150 un</td>\n",
              "      <td>S/ 119 un</td>\n",
              "      <td>-20%</td>\n",
              "      <td>https://www.plazavea.com.pe//cable-de-carga-ap...</td>\n",
              "    </tr>\n",
              "    <tr>\n",
              "      <th>35</th>\n",
              "      <td>iPhone XR 64GB 3GB Negro</td>\n",
              "      <td>S/ 4,736 un</td>\n",
              "      <td>S/ 2,673 un</td>\n",
              "      <td>-43%</td>\n",
              "      <td>https://www.plazavea.com.pe//iphone-xr-64gb-3g...</td>\n",
              "    </tr>\n",
              "    <tr>\n",
              "      <th>217</th>\n",
              "      <td>Adaptador APPLE USB-C de 20 Watts</td>\n",
              "      <td>S/ 195 un</td>\n",
              "      <td>S/ 179 un</td>\n",
              "      <td>-8%</td>\n",
              "      <td>https://www.plazavea.com.pe//adaptador-apple-u...</td>\n",
              "    </tr>\n",
              "    <tr>\n",
              "      <th>197</th>\n",
              "      <td>iPhone 12 6.1' 128GB 12MPx  Morado</td>\n",
              "      <td>S/ 4,999 un</td>\n",
              "      <td>S/ 4,399 un</td>\n",
              "      <td>-12%</td>\n",
              "      <td>https://www.plazavea.com.pe//iphone-12-6-1--12...</td>\n",
              "    </tr>\n",
              "  </tbody>\n",
              "</table>\n",
              "</div>"
            ],
            "text/plain": [
              "                                                  name  ...                                       product_link\n",
              "87   Adaptador Apple Lightning a Jack para Audífono...  ...  https://www.plazavea.com.pe//adaptador-apple-l...\n",
              "156  Cable de Carga Apple USB-C a USB-C Blanco 2 Me...  ...  https://www.plazavea.com.pe//cable-de-carga-ap...\n",
              "35                            iPhone XR 64GB 3GB Negro  ...  https://www.plazavea.com.pe//iphone-xr-64gb-3g...\n",
              "217                  Adaptador APPLE USB-C de 20 Watts  ...  https://www.plazavea.com.pe//adaptador-apple-u...\n",
              "197                 iPhone 12 6.1' 128GB 12MPx  Morado  ...  https://www.plazavea.com.pe//iphone-12-6-1--12...\n",
              "\n",
              "[5 rows x 5 columns]"
            ]
          },
          "metadata": {
            "tags": []
          },
          "execution_count": 3
        }
      ]
    },
    {
      "cell_type": "markdown",
      "metadata": {
        "id": "9decb49f-05be-4b04-b5ff-7a38a7ff5063"
      },
      "source": [
        "# NLTK: Natural Language Toolkit"
      ],
      "id": "9decb49f-05be-4b04-b5ff-7a38a7ff5063"
    },
    {
      "cell_type": "code",
      "metadata": {
        "id": "1a6ac48e-3d5f-49c2-8483-16edf8d67660"
      },
      "source": [
        "import nltk"
      ],
      "id": "1a6ac48e-3d5f-49c2-8483-16edf8d67660",
      "execution_count": 4,
      "outputs": []
    },
    {
      "cell_type": "code",
      "metadata": {
        "id": "98ssEyyj50hO",
        "colab": {
          "base_uri": "https://localhost:8080/"
        },
        "outputId": "2e6f6fc7-4c82-43b5-c49c-5321c54ae21a"
      },
      "source": [
        "nltk.download('punkt')"
      ],
      "id": "98ssEyyj50hO",
      "execution_count": 5,
      "outputs": [
        {
          "output_type": "stream",
          "text": [
            "[nltk_data] Downloading package punkt to /root/nltk_data...\n",
            "[nltk_data]   Unzipping tokenizers/punkt.zip.\n"
          ],
          "name": "stdout"
        },
        {
          "output_type": "execute_result",
          "data": {
            "text/plain": [
              "True"
            ]
          },
          "metadata": {
            "tags": []
          },
          "execution_count": 5
        }
      ]
    },
    {
      "cell_type": "markdown",
      "metadata": {
        "id": "1868f315-b092-460c-a48a-f6784281eb18"
      },
      "source": [
        "### 1. Word Tokenization"
      ],
      "id": "1868f315-b092-460c-a48a-f6784281eb18"
    },
    {
      "cell_type": "code",
      "metadata": {
        "id": "60676ab4-6e3d-4518-9a37-64033f219053"
      },
      "source": [
        "from nltk import word_tokenize"
      ],
      "id": "60676ab4-6e3d-4518-9a37-64033f219053",
      "execution_count": 6,
      "outputs": []
    },
    {
      "cell_type": "code",
      "metadata": {
        "id": "XDhbXvWhBHru"
      },
      "source": [
        "text = 'Hola, cómo estas?'"
      ],
      "id": "XDhbXvWhBHru",
      "execution_count": 8,
      "outputs": []
    },
    {
      "cell_type": "code",
      "metadata": {
        "colab": {
          "base_uri": "https://localhost:8080/"
        },
        "id": "3BLALD6oBTqv",
        "outputId": "d1143c31-9b1e-4bc5-89e0-5725d173e7ba"
      },
      "source": [
        "text.split()"
      ],
      "id": "3BLALD6oBTqv",
      "execution_count": 9,
      "outputs": [
        {
          "output_type": "execute_result",
          "data": {
            "text/plain": [
              "['Hola,', 'cómo', 'estas?']"
            ]
          },
          "metadata": {
            "tags": []
          },
          "execution_count": 9
        }
      ]
    },
    {
      "cell_type": "code",
      "metadata": {
        "colab": {
          "base_uri": "https://localhost:8080/"
        },
        "id": "nzxmNf0vBdlA",
        "outputId": "e8cd52ab-6244-4458-8036-08beda2b0b72"
      },
      "source": [
        "word_tokenize(text)"
      ],
      "id": "nzxmNf0vBdlA",
      "execution_count": 10,
      "outputs": [
        {
          "output_type": "execute_result",
          "data": {
            "text/plain": [
              "['Hola', ',', 'cómo', 'estas', '?']"
            ]
          },
          "metadata": {
            "tags": []
          },
          "execution_count": 10
        }
      ]
    },
    {
      "cell_type": "code",
      "metadata": {
        "colab": {
          "base_uri": "https://localhost:8080/",
          "height": 35
        },
        "id": "LCMQjEgsBr_w",
        "outputId": "3e6ee4c4-6bea-4915-9334-ace14a288301"
      },
      "source": [
        "df.iloc[5]['name']"
      ],
      "id": "LCMQjEgsBr_w",
      "execution_count": 11,
      "outputs": [
        {
          "output_type": "execute_result",
          "data": {
            "application/vnd.google.colaboratory.intrinsic+json": {
              "type": "string"
            },
            "text/plain": [
              "'Smartphone APPLE iPhone 11 Pro 5.8\" 64GB 12MP +12MP+12MP'"
            ]
          },
          "metadata": {
            "tags": []
          },
          "execution_count": 11
        }
      ]
    },
    {
      "cell_type": "code",
      "metadata": {
        "colab": {
          "base_uri": "https://localhost:8080/"
        },
        "id": "MZHP6zHQByuO",
        "outputId": "cd70c5c8-487d-42c2-9010-31132253b96c"
      },
      "source": [
        "word_tokenize(df.iloc[5]['name'])"
      ],
      "id": "MZHP6zHQByuO",
      "execution_count": 12,
      "outputs": [
        {
          "output_type": "execute_result",
          "data": {
            "text/plain": [
              "['Smartphone',\n",
              " 'APPLE',\n",
              " 'iPhone',\n",
              " '11',\n",
              " 'Pro',\n",
              " '5.8',\n",
              " \"''\",\n",
              " '64GB',\n",
              " '12MP',\n",
              " '+12MP+12MP']"
            ]
          },
          "metadata": {
            "tags": []
          },
          "execution_count": 12
        }
      ]
    },
    {
      "cell_type": "code",
      "metadata": {
        "id": "6b0193a2-a66a-442c-8003-7860481a61a4"
      },
      "source": [
        "from nltk import FreqDist"
      ],
      "id": "6b0193a2-a66a-442c-8003-7860481a61a4",
      "execution_count": 13,
      "outputs": []
    },
    {
      "cell_type": "code",
      "metadata": {
        "id": "H9E7RzouCC0G"
      },
      "source": [
        "freq = FreqDist(word_tokenize(' '.join(df['name'])))"
      ],
      "id": "H9E7RzouCC0G",
      "execution_count": 14,
      "outputs": []
    },
    {
      "cell_type": "code",
      "metadata": {
        "colab": {
          "base_uri": "https://localhost:8080/"
        },
        "id": "V3kuTbGvCO7K",
        "outputId": "ec54ad5f-6739-4dab-a273-9cb666873552"
      },
      "source": [
        "freq.most_common(30)"
      ],
      "id": "V3kuTbGvCO7K",
      "execution_count": 16,
      "outputs": [
        {
          "output_type": "execute_result",
          "data": {
            "text/plain": [
              "[('Apple', 154),\n",
              " ('iPhone', 115),\n",
              " ('12', 59),\n",
              " ('Blanco', 58),\n",
              " ('Cable', 55),\n",
              " ('Cargador', 52),\n",
              " ('Pro', 46),\n",
              " ('iPad', 42),\n",
              " ('Lightning', 40),\n",
              " ('USB', 39),\n",
              " ('para', 36),\n",
              " ('C', 35),\n",
              " ('64GB', 30),\n",
              " (\"''\", 29),\n",
              " ('Original', 29),\n",
              " ('Watch', 29),\n",
              " ('de', 29),\n",
              " ('a', 28),\n",
              " ('128GB', 26),\n",
              " ('+', 23),\n",
              " ('APPLE', 22),\n",
              " ('Max', 22),\n",
              " ('Iphone', 22),\n",
              " ('Case', 22),\n",
              " ('11', 21),\n",
              " ('1', 21),\n",
              " ('12MP', 20),\n",
              " ('Metro', 20),\n",
              " ('Adaptador', 20),\n",
              " ('Tipo', 20)]"
            ]
          },
          "metadata": {
            "tags": []
          },
          "execution_count": 16
        }
      ]
    },
    {
      "cell_type": "markdown",
      "metadata": {
        "id": "58961512-dd50-4648-a6f9-16111b96b17a"
      },
      "source": [
        "### 2. Dígitos y signos de puntuación"
      ],
      "id": "58961512-dd50-4648-a6f9-16111b96b17a"
    },
    {
      "cell_type": "markdown",
      "metadata": {
        "id": "1b97cf28-9b3d-457d-9c7e-cbbe2ed87872"
      },
      "source": [
        "Funciones"
      ],
      "id": "1b97cf28-9b3d-457d-9c7e-cbbe2ed87872"
    },
    {
      "cell_type": "code",
      "metadata": {
        "colab": {
          "base_uri": "https://localhost:8080/"
        },
        "id": "ByOlTRz3ClV6",
        "outputId": "410e171a-8062-4b91-b767-5afe72e6a44f"
      },
      "source": [
        "'maria123'.isalpha()"
      ],
      "id": "ByOlTRz3ClV6",
      "execution_count": 22,
      "outputs": [
        {
          "output_type": "execute_result",
          "data": {
            "text/plain": [
              "False"
            ]
          },
          "metadata": {
            "tags": []
          },
          "execution_count": 22
        }
      ]
    },
    {
      "cell_type": "code",
      "metadata": {
        "colab": {
          "base_uri": "https://localhost:8080/"
        },
        "id": "Y-MjQImBCtjs",
        "outputId": "1108a14b-af41-42bf-c037-0bd57b76b9b0"
      },
      "source": [
        "'123'.isdigit()"
      ],
      "id": "Y-MjQImBCtjs",
      "execution_count": 20,
      "outputs": [
        {
          "output_type": "execute_result",
          "data": {
            "text/plain": [
              "False"
            ]
          },
          "metadata": {
            "tags": []
          },
          "execution_count": 20
        }
      ]
    },
    {
      "cell_type": "code",
      "metadata": {
        "colab": {
          "base_uri": "https://localhost:8080/"
        },
        "id": "hhFhozhyCz-p",
        "outputId": "085843d6-6c4f-4a25-f35e-c17eb1a9a0c6"
      },
      "source": [
        "'5.8'.isalnum()"
      ],
      "id": "hhFhozhyCz-p",
      "execution_count": 24,
      "outputs": [
        {
          "output_type": "execute_result",
          "data": {
            "text/plain": [
              "False"
            ]
          },
          "metadata": {
            "tags": []
          },
          "execution_count": 24
        }
      ]
    },
    {
      "cell_type": "markdown",
      "metadata": {
        "id": "75179422-7f1c-4e5d-96be-b7c8171ad568"
      },
      "source": [
        "Regular expressions"
      ],
      "id": "75179422-7f1c-4e5d-96be-b7c8171ad568"
    },
    {
      "cell_type": "code",
      "metadata": {
        "id": "5d778ccc-291a-4b44-9885-368f3432cdca"
      },
      "source": [
        "import re"
      ],
      "id": "5d778ccc-291a-4b44-9885-368f3432cdca",
      "execution_count": 25,
      "outputs": []
    },
    {
      "cell_type": "code",
      "metadata": {
        "colab": {
          "base_uri": "https://localhost:8080/"
        },
        "id": "-hjeEF5lDFmi",
        "outputId": "0a3f5903-2315-43b5-f834-8d621ea722ca"
      },
      "source": [
        "re.search('[a-zA-Z]', 'hola')"
      ],
      "id": "-hjeEF5lDFmi",
      "execution_count": 26,
      "outputs": [
        {
          "output_type": "execute_result",
          "data": {
            "text/plain": [
              "<re.Match object; span=(0, 1), match='h'>"
            ]
          },
          "metadata": {
            "tags": []
          },
          "execution_count": 26
        }
      ]
    },
    {
      "cell_type": "code",
      "metadata": {
        "id": "DNyyiq38DGOU"
      },
      "source": [
        "re.search('[a-zA-Z]', '4....5')"
      ],
      "id": "DNyyiq38DGOU",
      "execution_count": 27,
      "outputs": []
    },
    {
      "cell_type": "markdown",
      "metadata": {
        "id": "vncR_UAk4IsV"
      },
      "source": [
        "Signos de puntuación"
      ],
      "id": "vncR_UAk4IsV"
    },
    {
      "cell_type": "code",
      "metadata": {
        "id": "5gzKPqhW4Kpz"
      },
      "source": [
        "import string"
      ],
      "id": "5gzKPqhW4Kpz",
      "execution_count": 28,
      "outputs": []
    },
    {
      "cell_type": "code",
      "metadata": {
        "colab": {
          "base_uri": "https://localhost:8080/"
        },
        "id": "NO4RMAGtDcCY",
        "outputId": "01b1ba55-b679-4388-9ddf-4198a414c6ce"
      },
      "source": [
        "type(string.punctuation)"
      ],
      "id": "NO4RMAGtDcCY",
      "execution_count": 30,
      "outputs": [
        {
          "output_type": "execute_result",
          "data": {
            "text/plain": [
              "str"
            ]
          },
          "metadata": {
            "tags": []
          },
          "execution_count": 30
        }
      ]
    },
    {
      "cell_type": "code",
      "metadata": {
        "id": "FElPreZ5Dl4p"
      },
      "source": [
        "punct = string.punctuation + '¡¿' "
      ],
      "id": "FElPreZ5Dl4p",
      "execution_count": 36,
      "outputs": []
    },
    {
      "cell_type": "code",
      "metadata": {
        "colab": {
          "base_uri": "https://localhost:8080/",
          "height": 270
        },
        "id": "t8v28uC3D2Oj",
        "outputId": "412ed72f-124c-4470-b036-1a58d3d0b000"
      },
      "source": [
        "df.sample(5)"
      ],
      "id": "t8v28uC3D2Oj",
      "execution_count": 39,
      "outputs": [
        {
          "output_type": "execute_result",
          "data": {
            "text/html": [
              "<div>\n",
              "<style scoped>\n",
              "    .dataframe tbody tr th:only-of-type {\n",
              "        vertical-align: middle;\n",
              "    }\n",
              "\n",
              "    .dataframe tbody tr th {\n",
              "        vertical-align: top;\n",
              "    }\n",
              "\n",
              "    .dataframe thead th {\n",
              "        text-align: right;\n",
              "    }\n",
              "</style>\n",
              "<table border=\"1\" class=\"dataframe\">\n",
              "  <thead>\n",
              "    <tr style=\"text-align: right;\">\n",
              "      <th></th>\n",
              "      <th>name</th>\n",
              "      <th>original_price</th>\n",
              "      <th>sale_price</th>\n",
              "      <th>discount</th>\n",
              "      <th>product_link</th>\n",
              "      <th>name_prep</th>\n",
              "    </tr>\n",
              "  </thead>\n",
              "  <tbody>\n",
              "    <tr>\n",
              "      <th>5</th>\n",
              "      <td>Smartphone APPLE iPhone 11 Pro 5.8\" 64GB 12MP ...</td>\n",
              "      <td>S/ 5,299 un</td>\n",
              "      <td>S/ 5,099 un</td>\n",
              "      <td>-3%</td>\n",
              "      <td>https://www.plazavea.com.pe//smartphone-apple-...</td>\n",
              "      <td>+12MP+12MP</td>\n",
              "    </tr>\n",
              "    <tr>\n",
              "      <th>136</th>\n",
              "      <td>Cable Datos iPhone Original Lightning Tipo C</td>\n",
              "      <td>S/ 75 un</td>\n",
              "      <td>S/ 55 un</td>\n",
              "      <td>-26%</td>\n",
              "      <td>https://www.plazavea.com.pe//cable-datos-iphon...</td>\n",
              "      <td>C</td>\n",
              "    </tr>\n",
              "    <tr>\n",
              "      <th>108</th>\n",
              "      <td>iPhone 12 Mini 128GB Green</td>\n",
              "      <td>S/ 6,213 un</td>\n",
              "      <td>S/ 4,099 un</td>\n",
              "      <td>-34%</td>\n",
              "      <td>https://www.plazavea.com.pe//iphone-12-mini-12...</td>\n",
              "      <td>Green</td>\n",
              "    </tr>\n",
              "    <tr>\n",
              "      <th>230</th>\n",
              "      <td>MacBook Pro 13.3\" Chip M1 16GB RAM 1TB SSD Spa...</td>\n",
              "      <td>0</td>\n",
              "      <td>S/ 9,999 un</td>\n",
              "      <td>0</td>\n",
              "      <td>https://www.plazavea.com.pe//macbook-pro-13-3-...</td>\n",
              "      <td>2020</td>\n",
              "    </tr>\n",
              "    <tr>\n",
              "      <th>59</th>\n",
              "      <td>iPhone 12 Pro Max 128GB Azul</td>\n",
              "      <td>S/ 7,800 un</td>\n",
              "      <td>S/ 5,699 un</td>\n",
              "      <td>-26%</td>\n",
              "      <td>https://www.plazavea.com.pe//iphone-12-pro-max...</td>\n",
              "      <td>Azul</td>\n",
              "    </tr>\n",
              "  </tbody>\n",
              "</table>\n",
              "</div>"
            ],
            "text/plain": [
              "                                                  name  ...   name_prep\n",
              "5    Smartphone APPLE iPhone 11 Pro 5.8\" 64GB 12MP ...  ...  +12MP+12MP\n",
              "136       Cable Datos iPhone Original Lightning Tipo C  ...           C\n",
              "108                         iPhone 12 Mini 128GB Green  ...       Green\n",
              "230  MacBook Pro 13.3\" Chip M1 16GB RAM 1TB SSD Spa...  ...        2020\n",
              "59                        iPhone 12 Pro Max 128GB Azul  ...        Azul\n",
              "\n",
              "[5 rows x 6 columns]"
            ]
          },
          "metadata": {
            "tags": []
          },
          "execution_count": 39
        }
      ]
    },
    {
      "cell_type": "code",
      "metadata": {
        "id": "7x9f40RbES3m"
      },
      "source": [
        "name_prep = []\n",
        "for name in df['name']:\n",
        "  tokens = []\n",
        "  name = name.replace('\\'\\'', '')\n",
        "  for word in word_tokenize(name):   \n",
        "    if not (word in punct): tokens.append(word)\n",
        "  name_prep.append(' '.join(tokens))\n",
        "\n",
        "df['name_prep'] = name_prep"
      ],
      "id": "7x9f40RbES3m",
      "execution_count": 45,
      "outputs": []
    },
    {
      "cell_type": "markdown",
      "metadata": {
        "id": "07c99c39-75ab-454a-b0e3-be98125af583"
      },
      "source": [
        "### 3. Operaciones con strings"
      ],
      "id": "07c99c39-75ab-454a-b0e3-be98125af583"
    },
    {
      "cell_type": "code",
      "metadata": {
        "colab": {
          "base_uri": "https://localhost:8080/",
          "height": 35
        },
        "id": "xyR4iYTUFiF8",
        "outputId": "353894eb-740f-4493-8d1e-8ccd4872e955"
      },
      "source": [
        "'Apple'.lower()"
      ],
      "id": "xyR4iYTUFiF8",
      "execution_count": 48,
      "outputs": [
        {
          "output_type": "execute_result",
          "data": {
            "application/vnd.google.colaboratory.intrinsic+json": {
              "type": "string"
            },
            "text/plain": [
              "'apple'"
            ]
          },
          "metadata": {
            "tags": []
          },
          "execution_count": 48
        }
      ]
    },
    {
      "cell_type": "code",
      "metadata": {
        "colab": {
          "base_uri": "https://localhost:8080/",
          "height": 35
        },
        "id": "NUgU0l8xFn68",
        "outputId": "2fae600d-fcaf-4ea3-9a7b-e8df3d06c562"
      },
      "source": [
        "'Apple'.upper()"
      ],
      "id": "NUgU0l8xFn68",
      "execution_count": 49,
      "outputs": [
        {
          "output_type": "execute_result",
          "data": {
            "application/vnd.google.colaboratory.intrinsic+json": {
              "type": "string"
            },
            "text/plain": [
              "'APPLE'"
            ]
          },
          "metadata": {
            "tags": []
          },
          "execution_count": 49
        }
      ]
    },
    {
      "cell_type": "code",
      "metadata": {
        "colab": {
          "base_uri": "https://localhost:8080/"
        },
        "id": "r2MKbUBlGG0E",
        "outputId": "7dd1c1f6-9083-4203-b0d6-a5857fcfb195"
      },
      "source": [
        "'productos-tec-123-p'.split('-')"
      ],
      "id": "r2MKbUBlGG0E",
      "execution_count": 51,
      "outputs": [
        {
          "output_type": "execute_result",
          "data": {
            "text/plain": [
              "['productos', 'tec', '123', 'p']"
            ]
          },
          "metadata": {
            "tags": []
          },
          "execution_count": 51
        }
      ]
    },
    {
      "cell_type": "code",
      "metadata": {
        "colab": {
          "base_uri": "https://localhost:8080/",
          "height": 35
        },
        "id": "wVBk7LTBGHI5",
        "outputId": "1629c2cf-2658-4382-a4d4-676147e36b80"
      },
      "source": [
        "'    Apple.    '.strip()"
      ],
      "id": "wVBk7LTBGHI5",
      "execution_count": 56,
      "outputs": [
        {
          "output_type": "execute_result",
          "data": {
            "application/vnd.google.colaboratory.intrinsic+json": {
              "type": "string"
            },
            "text/plain": [
              "'Apple.'"
            ]
          },
          "metadata": {
            "tags": []
          },
          "execution_count": 56
        }
      ]
    },
    {
      "cell_type": "code",
      "metadata": {
        "id": "q2I29XJtGzRd"
      },
      "source": [
        "txt = 'M3sajeALaN4ción'"
      ],
      "id": "q2I29XJtGzRd",
      "execution_count": 57,
      "outputs": []
    },
    {
      "cell_type": "code",
      "metadata": {
        "colab": {
          "base_uri": "https://localhost:8080/",
          "height": 35
        },
        "id": "SMosXo8-G5hN",
        "outputId": "080149bc-5616-46a2-f55d-7dd125bb7aba"
      },
      "source": [
        "txt.replace('3', 'e').replace('4', 'a')"
      ],
      "id": "SMosXo8-G5hN",
      "execution_count": 59,
      "outputs": [
        {
          "output_type": "execute_result",
          "data": {
            "application/vnd.google.colaboratory.intrinsic+json": {
              "type": "string"
            },
            "text/plain": [
              "'MesajeALaNación'"
            ]
          },
          "metadata": {
            "tags": []
          },
          "execution_count": 59
        }
      ]
    },
    {
      "cell_type": "code",
      "metadata": {
        "id": "fmuBAZlEHBtr"
      },
      "source": [
        "nombre = 'Pickachu'\n",
        "apellido = 'Sagasti'"
      ],
      "id": "fmuBAZlEHBtr",
      "execution_count": 64,
      "outputs": []
    },
    {
      "cell_type": "code",
      "metadata": {
        "colab": {
          "base_uri": "https://localhost:8080/",
          "height": 35
        },
        "id": "QCrvOkVrHQwP",
        "outputId": "1386555e-0657-4aab-a5e4-6dc1162f1d5e"
      },
      "source": [
        "nombre + ' ' + apellido"
      ],
      "id": "QCrvOkVrHQwP",
      "execution_count": 61,
      "outputs": [
        {
          "output_type": "execute_result",
          "data": {
            "application/vnd.google.colaboratory.intrinsic+json": {
              "type": "string"
            },
            "text/plain": [
              "'Francisco Sagasti'"
            ]
          },
          "metadata": {
            "tags": []
          },
          "execution_count": 61
        }
      ]
    },
    {
      "cell_type": "code",
      "metadata": {
        "colab": {
          "base_uri": "https://localhost:8080/",
          "height": 35
        },
        "id": "6d-eN0IiHCAd",
        "outputId": "5aa50ca3-9e1e-4d01-95c6-b1f387bba682"
      },
      "source": [
        "f'{nombre} {apellido}'"
      ],
      "id": "6d-eN0IiHCAd",
      "execution_count": 62,
      "outputs": [
        {
          "output_type": "execute_result",
          "data": {
            "application/vnd.google.colaboratory.intrinsic+json": {
              "type": "string"
            },
            "text/plain": [
              "'Francisco Sagasti'"
            ]
          },
          "metadata": {
            "tags": []
          },
          "execution_count": 62
        }
      ]
    },
    {
      "cell_type": "code",
      "metadata": {
        "colab": {
          "base_uri": "https://localhost:8080/",
          "height": 35
        },
        "id": "jt87itBpHdbk",
        "outputId": "730ee70b-5478-44f3-c571-eb991e4f3674"
      },
      "source": [
        "f'Hola {nombre}, te saluda...'"
      ],
      "id": "jt87itBpHdbk",
      "execution_count": 65,
      "outputs": [
        {
          "output_type": "execute_result",
          "data": {
            "application/vnd.google.colaboratory.intrinsic+json": {
              "type": "string"
            },
            "text/plain": [
              "'Hola Pickachu, te saluda...'"
            ]
          },
          "metadata": {
            "tags": []
          },
          "execution_count": 65
        }
      ]
    },
    {
      "cell_type": "code",
      "metadata": {
        "colab": {
          "base_uri": "https://localhost:8080/",
          "height": 287
        },
        "id": "sNCdvgCYHs5O",
        "outputId": "17dd7c9f-0a91-4dfb-bd63-046491ae45bd"
      },
      "source": [
        "df.sample(5)"
      ],
      "id": "sNCdvgCYHs5O",
      "execution_count": 75,
      "outputs": [
        {
          "output_type": "execute_result",
          "data": {
            "text/html": [
              "<div>\n",
              "<style scoped>\n",
              "    .dataframe tbody tr th:only-of-type {\n",
              "        vertical-align: middle;\n",
              "    }\n",
              "\n",
              "    .dataframe tbody tr th {\n",
              "        vertical-align: top;\n",
              "    }\n",
              "\n",
              "    .dataframe thead th {\n",
              "        text-align: right;\n",
              "    }\n",
              "</style>\n",
              "<table border=\"1\" class=\"dataframe\">\n",
              "  <thead>\n",
              "    <tr style=\"text-align: right;\">\n",
              "      <th></th>\n",
              "      <th>name</th>\n",
              "      <th>original_price</th>\n",
              "      <th>sale_price</th>\n",
              "      <th>discount</th>\n",
              "      <th>product_link</th>\n",
              "      <th>name_prep</th>\n",
              "    </tr>\n",
              "  </thead>\n",
              "  <tbody>\n",
              "    <tr>\n",
              "      <th>15</th>\n",
              "      <td>Smartphone APPLE Iphone 12 6.1'' 4GB 128GB 12M...</td>\n",
              "      <td>4899.0</td>\n",
              "      <td>S/ 4,699 un</td>\n",
              "      <td>-4%</td>\n",
              "      <td>https://www.plazavea.com.pe//smartphone-apple-...</td>\n",
              "      <td>smartphone apple iphone 12 6.1 4gb 128gb 12mp ...</td>\n",
              "    </tr>\n",
              "    <tr>\n",
              "      <th>169</th>\n",
              "      <td>Funda Clear Case MagSafe iPhone 12 Mini Transp...</td>\n",
              "      <td>99.0</td>\n",
              "      <td>S/ 79.99 un</td>\n",
              "      <td>-19%</td>\n",
              "      <td>https://www.plazavea.com.pe//funda-clear-case-...</td>\n",
              "      <td>funda clear case magsafe iphone 12 mini transp...</td>\n",
              "    </tr>\n",
              "    <tr>\n",
              "      <th>212</th>\n",
              "      <td>iPad Pro 2020 11\" Wifi 512GB Space Gray</td>\n",
              "      <td>6299.0</td>\n",
              "      <td>S/ 5,719 un</td>\n",
              "      <td>-9%</td>\n",
              "      <td>https://www.plazavea.com.pe//ipad-pro-2020-11-...</td>\n",
              "      <td>ipad pro 2020 11 '' wifi 512gb space gray</td>\n",
              "    </tr>\n",
              "    <tr>\n",
              "      <th>210</th>\n",
              "      <td>iPhone 11 Pro 64GB Gris</td>\n",
              "      <td>4800.0</td>\n",
              "      <td>S/ 4,399 un</td>\n",
              "      <td>-8%</td>\n",
              "      <td>https://www.plazavea.com.pe//iphone-11-pro-64g...</td>\n",
              "      <td>iphone 11 pro 64gb gris</td>\n",
              "    </tr>\n",
              "    <tr>\n",
              "      <th>202</th>\n",
              "      <td>Apple Macbook Air (Late 2020) 13.3\" Apple  256...</td>\n",
              "      <td>6689.0</td>\n",
              "      <td>S/ 5,989 un</td>\n",
              "      <td>-10%</td>\n",
              "      <td>https://www.plazavea.com.pe//apple-macbook-air...</td>\n",
              "      <td>apple macbook air late 2020 13.3 '' apple 256g...</td>\n",
              "    </tr>\n",
              "  </tbody>\n",
              "</table>\n",
              "</div>"
            ],
            "text/plain": [
              "                                                  name  ...                                          name_prep\n",
              "15   Smartphone APPLE Iphone 12 6.1'' 4GB 128GB 12M...  ...  smartphone apple iphone 12 6.1 4gb 128gb 12mp ...\n",
              "169  Funda Clear Case MagSafe iPhone 12 Mini Transp...  ...  funda clear case magsafe iphone 12 mini transp...\n",
              "212            iPad Pro 2020 11\" Wifi 512GB Space Gray  ...          ipad pro 2020 11 '' wifi 512gb space gray\n",
              "210                            iPhone 11 Pro 64GB Gris  ...                            iphone 11 pro 64gb gris\n",
              "202  Apple Macbook Air (Late 2020) 13.3\" Apple  256...  ...  apple macbook air late 2020 13.3 '' apple 256g...\n",
              "\n",
              "[5 rows x 6 columns]"
            ]
          },
          "metadata": {
            "tags": []
          },
          "execution_count": 75
        }
      ]
    },
    {
      "cell_type": "code",
      "metadata": {
        "id": "5cGlS4tHHx6V"
      },
      "source": [
        "df['name_prep'] = [name.lower() for name in df['name_prep']]"
      ],
      "id": "5cGlS4tHHx6V",
      "execution_count": 67,
      "outputs": []
    },
    {
      "cell_type": "code",
      "metadata": {
        "id": "WmpugjqHH7Od"
      },
      "source": [
        "df['original_price'] = [float(price.replace('S/', '').replace('un', '').replace(',', '').strip()) for price in df['original_price']]"
      ],
      "id": "WmpugjqHH7Od",
      "execution_count": 74,
      "outputs": []
    },
    {
      "cell_type": "code",
      "metadata": {
        "id": "HaPSHozLE-Ru"
      },
      "source": [
        "freq2 = FreqDist(word_tokenize(' '.join(df['name_prep'])))"
      ],
      "id": "HaPSHozLE-Ru",
      "execution_count": 46,
      "outputs": []
    },
    {
      "cell_type": "code",
      "metadata": {
        "colab": {
          "base_uri": "https://localhost:8080/"
        },
        "id": "MG_sfRz4FBKm",
        "outputId": "61302788-1500-47d7-d95e-a26994682602"
      },
      "source": [
        "freq2.most_common(30) "
      ],
      "id": "MG_sfRz4FBKm",
      "execution_count": 47,
      "outputs": [
        {
          "output_type": "execute_result",
          "data": {
            "text/plain": [
              "[('Apple', 154),\n",
              " ('iPhone', 115),\n",
              " ('12', 59),\n",
              " ('Blanco', 58),\n",
              " ('Cable', 55),\n",
              " ('Cargador', 52),\n",
              " ('Pro', 46),\n",
              " ('iPad', 42),\n",
              " ('Lightning', 40),\n",
              " ('USB', 39),\n",
              " ('para', 36),\n",
              " ('C', 35),\n",
              " ('64GB', 30),\n",
              " ('Original', 29),\n",
              " ('Watch', 29),\n",
              " ('de', 29),\n",
              " ('a', 28),\n",
              " ('128GB', 26),\n",
              " ('APPLE', 22),\n",
              " ('Max', 22),\n",
              " ('Iphone', 22),\n",
              " ('Case', 22),\n",
              " ('11', 21),\n",
              " ('1', 21),\n",
              " ('12MP', 20),\n",
              " ('Metro', 20),\n",
              " ('Adaptador', 20),\n",
              " ('Tipo', 20),\n",
              " ('Magsafe', 19),\n",
              " ('GPS', 18)]"
            ]
          },
          "metadata": {
            "tags": []
          },
          "execution_count": 47
        }
      ]
    },
    {
      "cell_type": "markdown",
      "metadata": {
        "id": "db099a07-89f6-4111-83e7-a2bcf5f6ed21"
      },
      "source": [
        "### 4. Stopwords"
      ],
      "id": "db099a07-89f6-4111-83e7-a2bcf5f6ed21"
    },
    {
      "cell_type": "code",
      "metadata": {
        "id": "eTe3PoWR5wdB"
      },
      "source": [
        "nltk.download('stopwords')\n",
        "from nltk.corpus import stopwords"
      ],
      "id": "eTe3PoWR5wdB",
      "execution_count": null,
      "outputs": []
    },
    {
      "cell_type": "markdown",
      "metadata": {
        "id": "2c7e8979-7c82-4d07-8268-6a309447f5b1"
      },
      "source": [
        "### 5. Stemming and Lemmatization "
      ],
      "id": "2c7e8979-7c82-4d07-8268-6a309447f5b1"
    },
    {
      "cell_type": "code",
      "metadata": {
        "id": "bddd9da4-2dd0-4e64-8bd6-d5fdac9345c5"
      },
      "source": [
        "from nltk.stem import PorterStemmer\n",
        "ps = PorterStemmer()\n",
        "#..."
      ],
      "id": "bddd9da4-2dd0-4e64-8bd6-d5fdac9345c5",
      "execution_count": null,
      "outputs": []
    },
    {
      "cell_type": "code",
      "metadata": {
        "id": "fYr8CeDc5sEg"
      },
      "source": [
        "nltk.download('wordnet')\n",
        "from nltk.stem import WordNetLemmatizer\n",
        "wlm = WordNetLemmatizer()\n",
        "#.."
      ],
      "id": "fYr8CeDc5sEg",
      "execution_count": null,
      "outputs": []
    },
    {
      "cell_type": "code",
      "metadata": {
        "id": "76928c71-05dc-432b-a010-9b1f274f3337"
      },
      "source": [
        "from nltk.stem import SnowballStemmer\n",
        "stemmer = SnowballStemmer('spanish')"
      ],
      "id": "76928c71-05dc-432b-a010-9b1f274f3337",
      "execution_count": null,
      "outputs": []
    },
    {
      "cell_type": "code",
      "metadata": {
        "id": "g4JoeU5CBb-U"
      },
      "source": [
        ""
      ],
      "id": "g4JoeU5CBb-U",
      "execution_count": null,
      "outputs": []
    },
    {
      "cell_type": "code",
      "metadata": {
        "id": "LuvRKYmPCB1y"
      },
      "source": [
        ""
      ],
      "id": "LuvRKYmPCB1y",
      "execution_count": null,
      "outputs": []
    },
    {
      "cell_type": "code",
      "metadata": {
        "id": "Cu12UjB8Cjmd"
      },
      "source": [
        ""
      ],
      "id": "Cu12UjB8Cjmd",
      "execution_count": null,
      "outputs": []
    },
    {
      "cell_type": "code",
      "metadata": {
        "id": "MyuN6FCKCkaZ"
      },
      "source": [
        ""
      ],
      "id": "MyuN6FCKCkaZ",
      "execution_count": null,
      "outputs": []
    },
    {
      "cell_type": "code",
      "metadata": {
        "id": "ipG7txHFFg8n"
      },
      "source": [
        ""
      ],
      "id": "ipG7txHFFg8n",
      "execution_count": null,
      "outputs": []
    }
  ]
}